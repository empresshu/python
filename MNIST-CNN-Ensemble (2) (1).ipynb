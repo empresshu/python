{
 "cells": [
  {
   "cell_type": "code",
   "execution_count": 1,
   "metadata": {},
   "outputs": [
    {
     "name": "stderr",
     "output_type": "stream",
     "text": [
      "C:\\ProgramData\\Anaconda3\\lib\\site-packages\\h5py\\__init__.py:36: FutureWarning: Conversion of the second argument of issubdtype from `float` to `np.floating` is deprecated. In future, it will be treated as `np.float64 == np.dtype(float).type`.\n",
      "  from ._conv import register_converters as _register_converters\n"
     ]
    },
    {
     "name": "stdout",
     "output_type": "stream",
     "text": [
      "Extracting ./data\\train-images-idx3-ubyte.gz\n",
      "Extracting ./data\\train-labels-idx1-ubyte.gz\n",
      "Extracting ./data\\t10k-images-idx3-ubyte.gz\n",
      "Extracting ./data\\t10k-labels-idx1-ubyte.gz\n",
      "\n",
      "Image Shape: (784,)\n",
      "Label Shape: (10,)\n",
      "\n",
      "Training Set:   55000 samples\n",
      "Test Set:       10000 samples\n"
     ]
    }
   ],
   "source": [
    "from tensorflow.examples.tutorials.mnist import input_data\n",
    "import matplotlib.pyplot as plt\n",
    "import tensorflow as tf\n",
    "# Import data\n",
    "mnist = input_data.read_data_sets('./data', one_hot=True)\n",
    "\n",
    "print()\n",
    "print(\"Image Shape: {}\".format(mnist.train.images[0].shape))\n",
    "print(\"Label Shape: {}\".format(mnist.train.labels[0].shape))\n",
    "print()\n",
    "print(\"Training Set:   {} samples\".format(len(mnist.train.images)))\n",
    "print(\"Test Set:       {} samples\".format(len(mnist.test.images)))\n"
   ]
  },
  {
   "cell_type": "code",
   "execution_count": 2,
   "metadata": {},
   "outputs": [
    {
     "data": {
      "image/png": "[encoded data removed]",
      "text/plain": [
       "<matplotlib.figure.Figure at 0xee1d1d0>"
      ]
     },
     "metadata": {},
     "output_type": "display_data"
    }
   ],
   "source": [
    "img1 = mnist.train.images[1:2].reshape(28,28)\n",
    "plt.imshow(img1,cmap='Greys',interpolation='nearest')\n",
    "plt.show()"
   ]
  },
  {
   "cell_type": "code",
   "execution_count": 3,
   "metadata": {},
   "outputs": [],
   "source": [
    "class Model:\n",
    "    def __init__(self, sess, name):\n",
    "        self.sess = sess\n",
    "        self.name = name\n",
    "        self._build_net()\n",
    "        \n",
    "    \n",
    "    def _build_net(self):\n",
    "\n",
    "        with tf.variable_scope(self.name):\n",
    "            self.training = tf.placeholder(tf.bool)\n",
    "    \n",
    "            self.X = tf.placeholder(tf.float32,[None,784])\n",
    "            X_image = tf.reshape(self.X,[-1,28,28,1])\n",
    "            self.Y = tf.placeholder(tf.float32,[None,10])\n",
    "\n",
    "            conv1 = tf.contrib.layers.conv2d(\n",
    "                inputs=X_image,\n",
    "                num_outputs=32,\n",
    "                kernel_size=[3, 3],\n",
    "                padding='SAME',\n",
    "                activation_fn=tf.nn.relu)\n",
    "            pool1 = tf.contrib.layers.max_pool2d(\n",
    "                inputs=conv1,\n",
    "                kernel_size=[2, 2],\n",
    "                stride=2,\n",
    "                padding = 'SAME')\n",
    "            dropout1 = tf.layers.dropout(\n",
    "                inputs=pool1,\n",
    "                rate=0.7,\n",
    "                training=self.training)\n",
    "\n",
    "            conv2 = tf.contrib.layers.conv2d(\n",
    "                inputs=dropout1,\n",
    "                num_outputs=64,\n",
    "                kernel_size=[3, 3],\n",
    "                padding='SAME',\n",
    "                activation_fn=tf.nn.relu)\n",
    "            pool2 = tf.contrib.layers.max_pool2d(\n",
    "                inputs=conv2,\n",
    "                kernel_size=[2, 2],\n",
    "                stride=2,\n",
    "                padding = 'SAME')\n",
    "            dropout2 = tf.layers.dropout(\n",
    "                inputs=pool2,\n",
    "                rate=0.7,\n",
    "                training=self.training)\n",
    "\n",
    "            conv3 = tf.contrib.layers.conv2d(\n",
    "                inputs=dropout2,\n",
    "                num_outputs=128,\n",
    "                kernel_size=[3, 3],\n",
    "                padding='SAME',\n",
    "                activation_fn=tf.nn.relu)\n",
    "            pool3 = tf.contrib.layers.max_pool2d(\n",
    "                inputs=conv3,\n",
    "                kernel_size=[2, 2],\n",
    "                stride=2,\n",
    "                padding = 'SAME')\n",
    "            dropout3 = tf.layers.dropout(\n",
    "                inputs=pool3,\n",
    "                rate=0.7,\n",
    "                training=self.training)\n",
    "    \n",
    "            fc1 = tf.contrib.layers.flatten(dropout2)\n",
    "            fc2 = tf.contrib.layers.fully_connected(fc1, 120, activation_fn=tf.nn.relu)\n",
    "            fc3 = tf.contrib.layers.fully_connected(fc2, 84, activation_fn=tf.nn.relu)\n",
    "            self.mu = tf.contrib.layers.linear(fc3, 10)\n",
    "\n",
    "        self.Cost = tf.reduce_mean(tf.nn.softmax_cross_entropy_with_logits(labels=self.Y, logits=self.mu))\n",
    "        self.Optimizer = tf.train.AdamOptimizer(learning_rate=learning_rate).minimize(self.Cost)\n",
    "\n",
    "        Correct_prediction = tf.equal(tf.argmax(self.mu, 1), tf.argmax(self.Y, 1))\n",
    "        self.Accuracy = tf.reduce_mean(tf.cast(Correct_prediction, tf.float32))\n",
    "    \n",
    "    def Predict(self, x_test, training=False):\n",
    "        return self.sess.run(self.mu, feed_dict={self.X: x_test, self.training:training})\n",
    "    \n",
    "    def Get_accuracy(self, x_test, y_test, training=False):\n",
    "        return self.sess.run(self.Accuracy, feed_dict={self.X:x_test, self.Y:y_test, self.training:training})\n",
    "    \n",
    "    def Train(self, x_data, y_data, training=True):\n",
    "        return self.sess.run([self.Cost, self.Optimizer], feed_dict={self.X:x_data, self.Y:y_data, self.training:training})\n",
    "    \n"
   ]
  },
  {
   "cell_type": "code",
   "execution_count": 4,
   "metadata": {},
   "outputs": [],
   "source": [
    "\n",
    "# hyperparameters\n",
    "n_epoch = 20\n",
    "batch_size = 100\n",
    "learning_rate = 0.001 #0.01\n",
    "\n",
    "# define placeholders\n",
    "sess = tf.Session()\n",
    "\n",
    "models = []\n",
    "num_models = 7\n",
    "for i in range(num_models):\n",
    "    models.append(Model(sess, \"gaza\"+str(i)))\n",
    "\n",
    "sess.run(tf.global_variables_initializer())\n"
   ]
  },
  {
   "cell_type": "code",
   "execution_count": 5,
   "metadata": {},
   "outputs": [
    {
     "name": "stdout",
     "output_type": "stream",
     "text": [
      "학습시작\n",
      "Epoch: 0001 cost =  [0.47343591 0.47330313 0.48105491 0.45465937 0.48387315 0.45716732\n",
      " 0.45582562]\n",
      "Epoch: 0002 cost =  [0.18478342 0.18323487 0.18309482 0.17680675 0.18568463 0.17751798\n",
      " 0.17285296]\n",
      "Epoch: 0003 cost =  [0.14001499 0.14252329 0.14005258 0.14079017 0.1431448  0.13773354\n",
      " 0.13825888]\n",
      "Epoch: 0004 cost =  [0.12119656 0.11774824 0.12024196 0.1192769  0.12249329 0.11529281\n",
      " 0.11991533]\n",
      "Epoch: 0005 cost =  [0.10791601 0.10517151 0.10725455 0.10635123 0.10665033 0.10358183\n",
      " 0.1030054 ]\n",
      "Epoch: 0006 cost =  [0.09724555 0.0959434  0.09504034 0.09475485 0.09594084 0.09255151\n",
      " 0.09569754]\n",
      "Epoch: 0007 cost =  [0.09025606 0.08860253 0.08987523 0.08933696 0.09246346 0.0907983\n",
      " 0.08732651]\n",
      "Epoch: 0008 cost =  [0.08657131 0.08422594 0.08464751 0.08248152 0.08592326 0.083694\n",
      " 0.08219948]\n",
      "Epoch: 0009 cost =  [0.07918278 0.07877359 0.08106496 0.08209275 0.08080158 0.07748893\n",
      " 0.08074269]\n",
      "Epoch: 0010 cost =  [0.07375187 0.07712065 0.07515887 0.0756071  0.07736159 0.07335648\n",
      " 0.07622587]\n",
      "Epoch: 0011 cost =  [0.07356868 0.07361656 0.07301583 0.07199832 0.07308786 0.07490165\n",
      " 0.07318037]\n",
      "Epoch: 0012 cost =  [0.06982201 0.06966006 0.06957694 0.07120173 0.07093475 0.06984992\n",
      " 0.06984375]\n",
      "Epoch: 0013 cost =  [0.06837605 0.06708716 0.06744185 0.06717653 0.0684595  0.06969907\n",
      " 0.06950229]\n",
      "Epoch: 0014 cost =  [0.06296489 0.06427414 0.06756996 0.06682451 0.06460549 0.06517221\n",
      " 0.06387707]\n",
      "Epoch: 0015 cost =  [0.06424164 0.062767   0.062938   0.06288972 0.06189406 0.06417606\n",
      " 0.06441824]\n",
      "Epoch: 0016 cost =  [0.06154496 0.05969504 0.0630413  0.06303376 0.06343573 0.06300975\n",
      " 0.06351333]\n",
      "Epoch: 0017 cost =  [0.0633988  0.06172511 0.06053769 0.06062375 0.06059718 0.0617585\n",
      " 0.05836096]\n",
      "Epoch: 0018 cost =  [0.05833951 0.05935132 0.05809242 0.05942729 0.05939558 0.06096192\n",
      " 0.05909093]\n",
      "Epoch: 0019 cost =  [0.05617346 0.05754226 0.05772492 0.05910344 0.05973971 0.06003538\n",
      " 0.05726052]\n",
      "Epoch: 0020 cost =  [0.05583282 0.05652804 0.0581405  0.05873143 0.05765431 0.05911983\n",
      " 0.05693521]\n",
      "학습종료\n"
     ]
    }
   ],
   "source": [
    "print(\"학습시작\")\n",
    "import numpy as np\n",
    "\n",
    "for epoch in range(n_epoch):\n",
    "    avg_cost_vec = np.zeros(len(models)) \n",
    "    total_batch = int(mnist.train.num_examples/batch_size)\n",
    "    for _ in range(total_batch):\n",
    "        batch_x, batch_y = mnist.train.next_batch(batch_size)\n",
    "        for md_idx, md in enumerate(models):\n",
    "            cost, _ = md.Train(batch_x, batch_y)\n",
    "            avg_cost_vec[md_idx] += cost / total_batch\n",
    "    \n",
    "    print('Epoch:', '%04d' % (epoch+1), 'cost = ', avg_cost_vec)\n",
    "    \n",
    "print('학습종료')\n"
   ]
  },
  {
   "cell_type": "code",
   "execution_count": 6,
   "metadata": {},
   "outputs": [
    {
     "name": "stdout",
     "output_type": "stream",
     "text": [
      "0 Accuracy: 0.9921\n",
      "1 Accuracy: 0.9906\n",
      "2 Accuracy: 0.9931\n",
      "3 Accuracy: 0.9906\n",
      "4 Accuracy: 0.9925\n",
      "5 Accuracy: 0.9924\n",
      "6 Accuracy: 0.9923\n"
     ]
    }
   ],
   "source": [
    "test_size = len(mnist.test.labels)\n",
    "predictions = np.zeros([test_size, 10])\n",
    "for md_idx, md in enumerate(models):\n",
    "    print(md_idx, 'Accuracy:', md.Get_accuracy(mnist.test.images, mnist.test.labels))\n",
    "    p = md.Predict(mnist.test.images)\n",
    "    predictions += p\n",
    "    "
   ]
  },
  {
   "cell_type": "code",
   "execution_count": 7,
   "metadata": {},
   "outputs": [
    {
     "name": "stdout",
     "output_type": "stream",
     "text": [
      "Ensemble accuracy: 0.9932\n"
     ]
    }
   ],
   "source": [
    "Ensemble_correct_prediction = tf.equal(tf.argmax(predictions, 1), tf.argmax(mnist.test.labels, 1))\n",
    "Ensemble_accuracy = tf.reduce_mean(tf.cast(Ensemble_correct_prediction, tf.float32))\n",
    "print('Ensemble accuracy:', sess.run(Ensemble_accuracy))\n"
   ]
  },
  {
   "cell_type": "code",
   "execution_count": 8,
   "metadata": {},
   "outputs": [],
   "source": [
    "writer = tf.summary.FileWriter('./graphs_model', tf.get_default_graph())\n",
    "## 새로운 DOS command 창에서\n",
    "# activate tensorflow\n",
    "# tensorboard --logdir=\"./graphs_model\" --port 6006\n",
    "# 브라우저: http://Com-PC:6006   (컴퓨터마다 다름, 화면에 나온 값 참조)\n",
    "# graphs 확인"
   ]
  },
  {
   "cell_type": "code",
   "execution_count": 9,
   "metadata": {},
   "outputs": [],
   "source": [
    "writer.close()"
   ]
  }
 ],
 "metadata": {
  "kernelspec": {
   "display_name": "Python 3",
   "language": "python",
   "name": "python3"
  },
  "language_info": {
   "codemirror_mode": {
    "name": "ipython",
    "version": 3
   },
   "file_extension": ".py",
   "mimetype": "text/x-python",
   "name": "python",
   "nbconvert_exporter": "python",
   "pygments_lexer": "ipython3",
   "version": "3.6.4"
  }
 },
 "nbformat": 4,
 "nbformat_minor": 2
}
